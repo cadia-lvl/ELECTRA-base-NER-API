{
  "nbformat": 4,
  "nbformat_minor": 0,
  "metadata": {
    "colab": {
      "name": "spaCy-mlflow-docker-flask.ipynb",
      "provenance": []
    },
    "kernelspec": {
      "name": "python3",
      "display_name": "Python 3"
    }
  },
  "cells": [
    {
      "cell_type": "markdown",
      "metadata": {
        "id": "QdRNGb5ZN9UN",
        "colab_type": "text"
      },
      "source": [
        "## Testing spacy"
      ]
    },
    {
      "cell_type": "code",
      "metadata": {
        "id": "5297px3K5cpO",
        "colab_type": "code",
        "outputId": "ccdcac6a-36de-49cb-b841-43df76fb2c82",
        "colab": {
          "base_uri": "https://localhost:8080/",
          "height": 218
        }
      },
      "source": [
        "import spacy\n",
        "\n",
        "nlp = spacy.load(\"en_core_web_sm\", disable=[\"tagger\", \"parser\"])\n",
        "\n",
        "text = 'That is the will of Parliament and the nation. The British Empire and the French Republic, linked together in their cause and in their need, will defend to the death their native soil, aiding each other like good comrades to the utmost of their strength. Even though large tracts of Europe and many old and famous States have fallen or may fall into the grip of the Gestapo and all the odious apparatus of Nazi rule, we shall not flag or fail. We shall go on to the end, we shall fight in France, we shall fight on the seas and oceans, we shall fight with growing confidence and growing strength in the air, we shall defend our Island, whatever the cost may be, we shall fight on the beaches, we shall fight on the landing grounds, we shall fight in the fields and in the streets, we shall fight in the hills; we shall never surrender, and even if, which I do not for a moment believe, this Island or a large part of it were subjugated and starving, then our Empire beyond the seas, armed and guarded by the British Fleet, would carry on the struggle, until, in God’s good time, the New World, with all its power and might, steps forth to the rescue and the liberation of the old.'\n",
        "\n",
        "t = nlp(text)\n",
        "for ent in t.ents:\n",
        "  print(ent.text, ent.start_char, ent.end_char, ent.label_)"
      ],
      "execution_count": 3,
      "outputs": [
        {
          "output_type": "stream",
          "text": [
            "Parliament 20 30 ORG\n",
            "The British Empire 47 65 GPE\n",
            "the French Republic 70 89 GPE\n",
            "Europe 283 289 LOC\n",
            "States 314 320 GPE\n",
            "Gestapo 366 373 PRODUCT\n",
            "Nazi 406 410 NORP\n",
            "France 489 495 GPE\n",
            "Island 628 634 GPE\n",
            "Empire 959 965 GPE\n",
            "the British Fleet 1004 1021 ORG\n",
            "the New World 1079 1092 ORG\n"
          ],
          "name": "stdout"
        }
      ]
    },
    {
      "cell_type": "markdown",
      "metadata": {
        "id": "gRS1lCX-Oc41",
        "colab_type": "text"
      },
      "source": [
        "## Saving model and doing test"
      ]
    },
    {
      "cell_type": "code",
      "metadata": {
        "id": "537GbMTUldnm",
        "colab_type": "code",
        "outputId": "0ca34258-ec00-4448-9a31-b96297a2e37b",
        "colab": {
          "base_uri": "https://localhost:8080/",
          "height": 218
        }
      },
      "source": [
        "import os\n",
        "\n",
        "nlp_model_path = 'spacy-nlp-model'\n",
        "\n",
        "\n",
        "nlp.to_disk(nlp_model_path)\n",
        "\n",
        "for e in nlp(text).ents:\n",
        "  print(e.text, e.label_)"
      ],
      "execution_count": 7,
      "outputs": [
        {
          "output_type": "stream",
          "text": [
            "Parliament ORG\n",
            "The British Empire GPE\n",
            "the French Republic GPE\n",
            "Europe LOC\n",
            "States GPE\n",
            "Gestapo PRODUCT\n",
            "Nazi NORP\n",
            "France GPE\n",
            "Island GPE\n",
            "Empire GPE\n",
            "the British Fleet ORG\n",
            "the New World ORG\n"
          ],
          "name": "stdout"
        }
      ]
    },
    {
      "cell_type": "markdown",
      "metadata": {
        "id": "RbagM-U6OejU",
        "colab_type": "text"
      },
      "source": [
        "## Load model and get same results"
      ]
    },
    {
      "cell_type": "code",
      "metadata": {
        "id": "q2kDQU-NsSdN",
        "colab_type": "code",
        "outputId": "abe7f806-6235-4440-b82f-70379dbd69e6",
        "colab": {
          "base_uri": "https://localhost:8080/",
          "height": 218
        }
      },
      "source": [
        "mod = spacy.load(nlp_model_path)\n",
        "for e in mod(text).ents:\n",
        "  print(e.text, e.label_)"
      ],
      "execution_count": 8,
      "outputs": [
        {
          "output_type": "stream",
          "text": [
            "Parliament ORG\n",
            "The British Empire GPE\n",
            "the French Republic GPE\n",
            "Europe LOC\n",
            "States GPE\n",
            "Gestapo PRODUCT\n",
            "Nazi NORP\n",
            "France GPE\n",
            "Island GPE\n",
            "Empire GPE\n",
            "the British Fleet ORG\n",
            "the New World ORG\n"
          ],
          "name": "stdout"
        }
      ]
    },
    {
      "cell_type": "markdown",
      "metadata": {
        "id": "O-idEfl4GJM3",
        "colab_type": "text"
      },
      "source": [
        "## Install mlflow"
      ]
    },
    {
      "cell_type": "code",
      "metadata": {
        "id": "paRpro-RpN2q",
        "colab_type": "code",
        "outputId": "c9dde061-0e88-4d0a-927a-ba2af7e4a4d6",
        "colab": {
          "base_uri": "https://localhost:8080/",
          "height": 1000
        }
      },
      "source": [
        "!pip install mlflow "
      ],
      "execution_count": 0,
      "outputs": [
        {
          "output_type": "stream",
          "text": [
            "Collecting mlflow\n",
            "\u001b[?25l  Downloading https://files.pythonhosted.org/packages/9e/a7/40679fdb5ac44ad922902b560818682038be169f88c23ad719b9d1f82090/mlflow-1.8.0-py3-none-any.whl (10.4MB)\n",
            "\u001b[K     |████████████████████████████████| 10.4MB 2.9MB/s \n",
            "\u001b[?25hCollecting databricks-cli>=0.8.7\n",
            "\u001b[?25l  Downloading https://files.pythonhosted.org/packages/49/d1/fe0ba3d5c2b4b76ec035aa243bbc2fd0d60607a391f192ebe1656e17a4e2/databricks-cli-0.10.0.tar.gz (45kB)\n",
            "\u001b[K     |████████████████████████████████| 51kB 7.9MB/s \n",
            "\u001b[?25hRequirement already satisfied: six>=1.10.0 in /usr/local/lib/python3.6/dist-packages (from mlflow) (1.12.0)\n",
            "Collecting docker>=4.0.0\n",
            "\u001b[?25l  Downloading https://files.pythonhosted.org/packages/58/74/379a9d30b1620def158c40b88c43e01c1936a287ebb97afab0699c601c57/docker-4.2.0-py2.py3-none-any.whl (143kB)\n",
            "\u001b[K     |████████████████████████████████| 153kB 48.4MB/s \n",
            "\u001b[?25hCollecting sqlalchemy<=1.3.13\n",
            "\u001b[?25l  Downloading https://files.pythonhosted.org/packages/af/47/35edeb0f86c0b44934c05d961c893e223ef27e79e1f53b5e6f14820ff553/SQLAlchemy-1.3.13.tar.gz (6.0MB)\n",
            "\u001b[K     |████████████████████████████████| 6.0MB 45.9MB/s \n",
            "\u001b[?25hCollecting gorilla\n",
            "  Downloading https://files.pythonhosted.org/packages/e3/56/5a683944cbfc77e429c6f03c636ca50504a785f60ffae91ddd7f5f7bb520/gorilla-0.3.0-py2.py3-none-any.whl\n",
            "Requirement already satisfied: requests>=2.17.3 in /usr/local/lib/python3.6/dist-packages (from mlflow) (2.23.0)\n",
            "Requirement already satisfied: pandas in /usr/local/lib/python3.6/dist-packages (from mlflow) (1.0.3)\n",
            "Requirement already satisfied: protobuf>=3.6.0 in /usr/local/lib/python3.6/dist-packages (from mlflow) (3.10.0)\n",
            "Collecting querystring-parser\n",
            "  Downloading https://files.pythonhosted.org/packages/4a/fa/f54f5662e0eababf0c49e92fd94bf178888562c0e7b677c8941bbbcd1bd6/querystring_parser-1.2.4.tar.gz\n",
            "Requirement already satisfied: numpy in /usr/local/lib/python3.6/dist-packages (from mlflow) (1.18.3)\n",
            "Collecting gunicorn; platform_system != \"Windows\"\n",
            "\u001b[?25l  Downloading https://files.pythonhosted.org/packages/69/ca/926f7cd3a2014b16870086b2d0fdc84a9e49473c68a8dff8b57f7c156f43/gunicorn-20.0.4-py2.py3-none-any.whl (77kB)\n",
            "\u001b[K     |████████████████████████████████| 81kB 10.3MB/s \n",
            "\u001b[?25hRequirement already satisfied: python-dateutil in /usr/local/lib/python3.6/dist-packages (from mlflow) (2.8.1)\n",
            "Collecting gitpython>=2.1.0\n",
            "\u001b[?25l  Downloading https://files.pythonhosted.org/packages/19/1a/0df85d2bddbca33665d2148173d3281b290ac054b5f50163ea735740ac7b/GitPython-3.1.1-py3-none-any.whl (450kB)\n",
            "\u001b[K     |████████████████████████████████| 460kB 53.3MB/s \n",
            "\u001b[?25hCollecting prometheus-flask-exporter\n",
            "  Downloading https://files.pythonhosted.org/packages/74/72/167af24b6df90e1c9db21d4d3a1d67573f35a4ec2376eaebd1ac4e1bbf03/prometheus_flask_exporter-0.13.0.tar.gz\n",
            "Requirement already satisfied: sqlparse in /usr/local/lib/python3.6/dist-packages (from mlflow) (0.3.1)\n",
            "Requirement already satisfied: cloudpickle in /usr/local/lib/python3.6/dist-packages (from mlflow) (1.3.0)\n",
            "Requirement already satisfied: click>=7.0 in /usr/local/lib/python3.6/dist-packages (from mlflow) (7.1.2)\n",
            "Requirement already satisfied: entrypoints in /usr/local/lib/python3.6/dist-packages (from mlflow) (0.3)\n",
            "Requirement already satisfied: pyyaml in /usr/local/lib/python3.6/dist-packages (from mlflow) (3.13)\n",
            "Collecting alembic\n",
            "\u001b[?25l  Downloading https://files.pythonhosted.org/packages/60/1e/cabc75a189de0fbb2841d0975243e59bde8b7822bacbb95008ac6fe9ad47/alembic-1.4.2.tar.gz (1.1MB)\n",
            "\u001b[K     |████████████████████████████████| 1.1MB 44.5MB/s \n",
            "\u001b[?25h  Installing build dependencies ... \u001b[?25l\u001b[?25hdone\n",
            "  Getting requirements to build wheel ... \u001b[?25l\u001b[?25hdone\n",
            "    Preparing wheel metadata ... \u001b[?25l\u001b[?25hdone\n",
            "Requirement already satisfied: Flask in /usr/local/lib/python3.6/dist-packages (from mlflow) (1.1.2)\n",
            "Collecting simplejson\n",
            "\u001b[?25l  Downloading https://files.pythonhosted.org/packages/98/87/a7b98aa9256c8843f92878966dc3d8d914c14aad97e2c5ce4798d5743e07/simplejson-3.17.0.tar.gz (83kB)\n",
            "\u001b[K     |████████████████████████████████| 92kB 11.6MB/s \n",
            "\u001b[?25hRequirement already satisfied: tabulate>=0.7.7 in /usr/local/lib/python3.6/dist-packages (from databricks-cli>=0.8.7->mlflow) (0.8.7)\n",
            "Collecting configparser>=0.3.5\n",
            "  Downloading https://files.pythonhosted.org/packages/4b/6b/01baa293090240cf0562cc5eccb69c6f5006282127f2b846fad011305c79/configparser-5.0.0-py3-none-any.whl\n",
            "Collecting websocket-client>=0.32.0\n",
            "\u001b[?25l  Downloading https://files.pythonhosted.org/packages/4c/5f/f61b420143ed1c8dc69f9eaec5ff1ac36109d52c80de49d66e0c36c3dfdf/websocket_client-0.57.0-py2.py3-none-any.whl (200kB)\n",
            "\u001b[K     |████████████████████████████████| 204kB 48.0MB/s \n",
            "\u001b[?25hRequirement already satisfied: chardet<4,>=3.0.2 in /usr/local/lib/python3.6/dist-packages (from requests>=2.17.3->mlflow) (3.0.4)\n",
            "Requirement already satisfied: certifi>=2017.4.17 in /usr/local/lib/python3.6/dist-packages (from requests>=2.17.3->mlflow) (2020.4.5.1)\n",
            "Requirement already satisfied: idna<3,>=2.5 in /usr/local/lib/python3.6/dist-packages (from requests>=2.17.3->mlflow) (2.9)\n",
            "Requirement already satisfied: urllib3!=1.25.0,!=1.25.1,<1.26,>=1.21.1 in /usr/local/lib/python3.6/dist-packages (from requests>=2.17.3->mlflow) (1.24.3)\n",
            "Requirement already satisfied: pytz>=2017.2 in /usr/local/lib/python3.6/dist-packages (from pandas->mlflow) (2018.9)\n",
            "Requirement already satisfied: setuptools in /usr/local/lib/python3.6/dist-packages (from protobuf>=3.6.0->mlflow) (46.1.3)\n",
            "Collecting gitdb<5,>=4.0.1\n",
            "\u001b[?25l  Downloading https://files.pythonhosted.org/packages/74/52/ca35448b56c53a079d3ffe18b1978c6e424f6d4df02404877094c89f5bfb/gitdb-4.0.4-py3-none-any.whl (63kB)\n",
            "\u001b[K     |████████████████████████████████| 71kB 10.3MB/s \n",
            "\u001b[?25hRequirement already satisfied: prometheus_client in /usr/local/lib/python3.6/dist-packages (from prometheus-flask-exporter->mlflow) (0.7.1)\n",
            "Collecting python-editor>=0.3\n",
            "  Downloading https://files.pythonhosted.org/packages/c6/d3/201fc3abe391bbae6606e6f1d598c15d367033332bd54352b12f35513717/python_editor-1.0.4-py3-none-any.whl\n",
            "Collecting Mako\n",
            "\u001b[?25l  Downloading https://files.pythonhosted.org/packages/50/78/f6ade1e18aebda570eed33b7c534378d9659351cadce2fcbc7b31be5f615/Mako-1.1.2-py2.py3-none-any.whl (75kB)\n",
            "\u001b[K     |████████████████████████████████| 81kB 11.4MB/s \n",
            "\u001b[?25hRequirement already satisfied: Werkzeug>=0.15 in /usr/local/lib/python3.6/dist-packages (from Flask->mlflow) (1.0.1)\n",
            "Requirement already satisfied: Jinja2>=2.10.1 in /usr/local/lib/python3.6/dist-packages (from Flask->mlflow) (2.11.2)\n",
            "Requirement already satisfied: itsdangerous>=0.24 in /usr/local/lib/python3.6/dist-packages (from Flask->mlflow) (1.1.0)\n",
            "Collecting smmap<4,>=3.0.1\n",
            "  Downloading https://files.pythonhosted.org/packages/27/b1/e379cfb7c07bbf8faee29c4a1a2469dbea525f047c2b454c4afdefa20a30/smmap-3.0.2-py2.py3-none-any.whl\n",
            "Requirement already satisfied: MarkupSafe>=0.9.2 in /usr/local/lib/python3.6/dist-packages (from Mako->alembic->mlflow) (1.1.1)\n",
            "Building wheels for collected packages: alembic\n",
            "  Building wheel for alembic (PEP 517) ... \u001b[?25l\u001b[?25hdone\n",
            "  Created wheel for alembic: filename=alembic-1.4.2-cp36-none-any.whl size=159543 sha256=c9af9ff090ba3ea63113a11c4b7d048f3776970d5144db638d8c3cfff0653f7f\n",
            "  Stored in directory: /root/.cache/pip/wheels/1f/04/83/76023f7a4c14688c0b5c2682a96392cfdd3ee4449eaaa287ef\n",
            "Successfully built alembic\n",
            "Building wheels for collected packages: databricks-cli, sqlalchemy, querystring-parser, prometheus-flask-exporter, simplejson\n",
            "  Building wheel for databricks-cli (setup.py) ... \u001b[?25l\u001b[?25hdone\n",
            "  Created wheel for databricks-cli: filename=databricks_cli-0.10.0-cp36-none-any.whl size=84285 sha256=9046147d3c93321a655e9ad447795d0e71ecd3a629cf6bf73558f3c67513329e\n",
            "  Stored in directory: /root/.cache/pip/wheels/1e/e5/2d/a19c0bfd38005176063f130d72de17cb3d2d32c0ee384e7493\n",
            "  Building wheel for sqlalchemy (setup.py) ... \u001b[?25l\u001b[?25hdone\n",
            "  Created wheel for sqlalchemy: filename=SQLAlchemy-1.3.13-cp36-cp36m-linux_x86_64.whl size=1217159 sha256=37631cddd4296aa89e3a929a500b7c96845635ac2b43823f5761fc2ba402a460\n",
            "  Stored in directory: /root/.cache/pip/wheels/b3/35/98/4c9cb3fd63d21d5606b972dd70643769745adf60e622467b71\n",
            "  Building wheel for querystring-parser (setup.py) ... \u001b[?25l\u001b[?25hdone\n",
            "  Created wheel for querystring-parser: filename=querystring_parser-1.2.4-cp36-none-any.whl size=7079 sha256=eef00f32353bf6107bb3db2fe4853617e329fd47fde37ecd4221ec471590ab95\n",
            "  Stored in directory: /root/.cache/pip/wheels/1e/41/34/23ebf5d1089a9aed847951e0ee375426eb4ad0a7079d88d41e\n",
            "  Building wheel for prometheus-flask-exporter (setup.py) ... \u001b[?25l\u001b[?25hdone\n",
            "  Created wheel for prometheus-flask-exporter: filename=prometheus_flask_exporter-0.13.0-cp36-none-any.whl size=14946 sha256=65d007cd8a99f17b8bffb9f2eb9acf9f79b7d3cfafdcfff9388c69328ce16c3d\n",
            "  Stored in directory: /root/.cache/pip/wheels/c8/2f/a3/c81e6aa99897467c82d523858738fb8c94d1d43e500da45dc2\n",
            "  Building wheel for simplejson (setup.py) ... \u001b[?25l\u001b[?25hdone\n",
            "  Created wheel for simplejson: filename=simplejson-3.17.0-cp36-cp36m-linux_x86_64.whl size=114198 sha256=3553f7e787f057e5ee36b2861399e9138fe28945658f8550548feac068d79577\n",
            "  Stored in directory: /root/.cache/pip/wheels/86/c0/83/dcd0339abb2640544bb8e0938aab2d069cef55e5647ce6e097\n",
            "Successfully built databricks-cli sqlalchemy querystring-parser prometheus-flask-exporter simplejson\n",
            "Installing collected packages: configparser, databricks-cli, websocket-client, docker, sqlalchemy, gorilla, querystring-parser, gunicorn, smmap, gitdb, gitpython, prometheus-flask-exporter, python-editor, Mako, alembic, simplejson, mlflow\n",
            "  Found existing installation: SQLAlchemy 1.3.16\n",
            "    Uninstalling SQLAlchemy-1.3.16:\n",
            "      Successfully uninstalled SQLAlchemy-1.3.16\n",
            "Successfully installed Mako-1.1.2 alembic-1.4.2 configparser-5.0.0 databricks-cli-0.10.0 docker-4.2.0 gitdb-4.0.4 gitpython-3.1.1 gorilla-0.3.0 gunicorn-20.0.4 mlflow-1.8.0 prometheus-flask-exporter-0.13.0 python-editor-1.0.4 querystring-parser-1.2.4 simplejson-3.17.0 smmap-3.0.2 sqlalchemy-1.3.13 websocket-client-0.57.0\n"
          ],
          "name": "stdout"
        },
        {
          "output_type": "display_data",
          "data": {
            "application/vnd.colab-display-data+json": {
              "pip_warning": {
                "packages": [
                  "configparser"
                ]
              }
            }
          },
          "metadata": {
            "tags": []
          }
        }
      ]
    },
    {
      "cell_type": "markdown",
      "metadata": {
        "id": "c40WgNAxGLbd",
        "colab_type": "text"
      },
      "source": [
        "## Save SpacyWrapper model, load and test"
      ]
    },
    {
      "cell_type": "code",
      "metadata": {
        "id": "zPo0LLlMnMaL",
        "colab_type": "code",
        "outputId": "f6f6e94c-87a8-4b20-a477-102ee28dda54",
        "colab": {
          "base_uri": "https://localhost:8080/",
          "height": 67
        }
      },
      "source": [
        "import mlflow\n",
        "import pip\n",
        "\n",
        "# Create an `artifacts` dictionary that assigns a unique name to the saved XGBoost model file.\n",
        "# This dictionary will be passed to `mlflow.pyfunc.save_model`, which will copy the model file\n",
        "# into the new MLflow Model's directory.\n",
        "artifacts = {\n",
        "    \"nlp_model\": nlp_model_path\n",
        "}\n",
        "\n",
        "# Define the model class\n",
        "import mlflow.pyfunc\n",
        "class SpacyWrapper(mlflow.pyfunc.PythonModel):\n",
        "    \n",
        "\n",
        "    def load_context(self, context):\n",
        "        import spacy\n",
        "        self.nlp = spacy.load(context.artifacts[\"nlp_model\"])\n",
        "\n",
        "    def predict(self, context, model_input):\n",
        "      import json\n",
        "      def get_entities(text):\n",
        "        ents = self.nlp(text).ents\n",
        "        return [(ent.text, ent.start_char, ent.end_char, ent.label_) for ent in ents]\n",
        "      try:\n",
        "        ents = model_input.text.apply(get_entities)\n",
        "\n",
        "        return ents.apply(lambda s: json.dumps(s))\n",
        "      except TypeError:\n",
        "        return \"DataFrame must contain strings\"\n",
        "\n",
        "# Create a Conda environment for the new MLflow Model that contains the XGBoost library\n",
        "# as a dependency, as well as the required CloudPickle library\n",
        "import cloudpickle\n",
        "# Let's create our own conda environment\n",
        "conda_env = {\n",
        "    'channels': ['defaults', 'pytorch'],\n",
        "    'dependencies': [\n",
        "      f'python=3.6.9',\n",
        "      {\n",
        "          'pip':[\n",
        "            f'pip=={pip.__version__}',\n",
        "            f'mlflow=={mlflow.__version__}',\n",
        "            f'spacy=={spacy.__version__}',\n",
        "            f'cloudpickle=={cloudpickle.__version__}'\n",
        "          ]\n",
        "      }\n",
        "    ],\n",
        "    'name': 'mlflow-env-spacy'\n",
        "}\n",
        "\n",
        "# Save the MLflow Model\n",
        "mlflow_pyfunc_model_path = \"spacy_mlflow_pyfunc\"\n",
        "# remove pre-existing folder\n",
        "!rm -rf $mlflow_pyfunc_model_path\n",
        "\n",
        "mlflow.pyfunc.save_model(\n",
        "        path=mlflow_pyfunc_model_path, python_model=SpacyWrapper(), artifacts=artifacts,\n",
        "        conda_env=conda_env)\n",
        "\n",
        "# Load the model in `python_function` format\n",
        "loaded_model = mlflow.pyfunc.load_model(mlflow_pyfunc_model_path)\n",
        "\n",
        "# Evaluate the model\n",
        "import pandas as pd\n",
        "test_predictions = loaded_model.predict(pd.DataFrame(data={'text':['What a beautiful day', 'That is the will of Parliament and the nation. The British Empire and the French Republic, linked together in their cause and in their need']}))\n",
        "print(test_predictions)\n"
      ],
      "execution_count": 0,
      "outputs": [
        {
          "output_type": "stream",
          "text": [
            "0                 [[\"a beautiful day\", 5, 20, \"DATE\"]]\n",
            "1    [[\"Parliament\", 20, 30, \"ORG\"], [\"The British ...\n",
            "Name: text, dtype: object\n"
          ],
          "name": "stdout"
        }
      ]
    }
  ]
}